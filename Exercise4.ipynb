{
 "cells": [
  {
   "cell_type": "code",
   "execution_count": 3,
   "id": "92790f98",
   "metadata": {},
   "outputs": [
    {
     "name": "stdout",
     "output_type": "stream",
     "text": [
      "0    10\n",
      "1    20\n",
      "2    30\n",
      "3    40\n",
      "4    50\n",
      "dtype: int64\n"
     ]
    }
   ],
   "source": [
    "import pandas as pd\n",
    "list = [10,20,30,40,50]\n",
    "print(pd.Series(list))"
   ]
  },
  {
   "cell_type": "code",
   "execution_count": 8,
   "id": "8a4ef577",
   "metadata": {},
   "outputs": [
    {
     "name": "stdout",
     "output_type": "stream",
     "text": [
      "DatetimeIndex(['2021-05-01', '2021-05-02', '2021-05-03', '2021-05-04',\n",
      "               '2021-05-05', '2021-05-06', '2021-05-07', '2021-05-08',\n",
      "               '2021-05-09', '2021-05-10', '2021-05-11', '2021-05-12'],\n",
      "              dtype='datetime64[ns]', freq='D')\n"
     ]
    }
   ],
   "source": [
    "import pandas as pd\n",
    "date = pd.date_range('05-01-2021','05-12-2021')\n",
    "print(date)"
   ]
  },
  {
   "cell_type": "code",
   "execution_count": 11,
   "id": "59b43dac",
   "metadata": {},
   "outputs": [
    {
     "name": "stdout",
     "output_type": "stream",
     "text": [
      "    name  marks\n",
      "0  Elvin     90\n",
      "1   Sara     95\n",
      "2  Eldho    100\n"
     ]
    }
   ],
   "source": [
    "import pandas as pd\n",
    "dict = {\n",
    "    'name':[\"Elvin\",\"Sara\",\"Eldho\"],\n",
    "    'marks':[90,95,100]\n",
    "}\n",
    "print(pd.DataFrame(dict))"
   ]
  },
  {
   "cell_type": "code",
   "execution_count": 15,
   "id": "b942aee5",
   "metadata": {},
   "outputs": [
    {
     "name": "stdout",
     "output_type": "stream",
     "text": [
      "   id   name  marks\n",
      "0   1  Elvin     45\n",
      "1   2   Sara     50\n",
      "2   3  Eldho     50\n"
     ]
    }
   ],
   "source": [
    "import pandas as pd\n",
    "frame = [[1,\"Elvin\",45],\n",
    "         [2,\"Sara\",50],\n",
    "        [3,\"Eldho\",50]]\n",
    "print(pd.DataFrame(frame,columns=[\"id\",\"name\",\"marks\"]))"
   ]
  },
  {
   "cell_type": "code",
   "execution_count": 24,
   "id": "9c0bd5e0",
   "metadata": {},
   "outputs": [
    {
     "name": "stdout",
     "output_type": "stream",
     "text": [
      "  name mark\n",
      "0  Elvin 50\n"
     ]
    }
   ],
   "source": [
    "import pandas as pd\n",
    "r = pd.read_csv('test.csv')\n",
    "print(r)"
   ]
  },
  {
   "cell_type": "code",
   "execution_count": 36,
   "id": "6288034b",
   "metadata": {},
   "outputs": [
    {
     "data": {
      "text/html": [
       "<div>\n",
       "<style scoped>\n",
       "    .dataframe tbody tr th:only-of-type {\n",
       "        vertical-align: middle;\n",
       "    }\n",
       "\n",
       "    .dataframe tbody tr th {\n",
       "        vertical-align: top;\n",
       "    }\n",
       "\n",
       "    .dataframe thead th {\n",
       "        text-align: right;\n",
       "    }\n",
       "</style>\n",
       "<table border=\"1\" class=\"dataframe\">\n",
       "  <thead>\n",
       "    <tr style=\"text-align: right;\">\n",
       "      <th></th>\n",
       "      <th>id</th>\n",
       "      <th>name</th>\n",
       "      <th>marks</th>\n",
       "    </tr>\n",
       "  </thead>\n",
       "  <tbody>\n",
       "    <tr>\n",
       "      <th>2</th>\n",
       "      <td>3</td>\n",
       "      <td>Eldho</td>\n",
       "      <td>50</td>\n",
       "    </tr>\n",
       "    <tr>\n",
       "      <th>0</th>\n",
       "      <td>1</td>\n",
       "      <td>Elvin</td>\n",
       "      <td>45</td>\n",
       "    </tr>\n",
       "    <tr>\n",
       "      <th>1</th>\n",
       "      <td>2</td>\n",
       "      <td>Sara</td>\n",
       "      <td>50</td>\n",
       "    </tr>\n",
       "  </tbody>\n",
       "</table>\n",
       "</div>"
      ],
      "text/plain": [
       "   id   name  marks\n",
       "2   3  Eldho     50\n",
       "0   1  Elvin     45\n",
       "1   2   Sara     50"
      ]
     },
     "execution_count": 36,
     "metadata": {},
     "output_type": "execute_result"
    }
   ],
   "source": [
    "import pandas as pd\n",
    "frame = [[1,\"Elvin\",45],\n",
    "        [2,\"Sara\",50],\n",
    "        [3,\"Eldho\",50]]\n",
    "r = pd.DataFrame(frame,columns=[\"id\",\"name\",\"marks\"])\n",
    "r.sort_values(by=['name',\"id\"])"
   ]
  },
  {
   "cell_type": "code",
   "execution_count": 57,
   "id": "f998b4d2",
   "metadata": {},
   "outputs": [
    {
     "name": "stdout",
     "output_type": "stream",
     "text": [
      "   index   name  marks\n",
      "0      0  Elvin     90\n",
      "1      1   Sara     95\n",
      "2      2  Eldho    100\n"
     ]
    }
   ],
   "source": [
    "import pandas as pd\n",
    "dict = {\n",
    "    'name':[\"Elvin\",\"Sara\",\"Eldho\"],\n",
    "    'marks':[90,95,100]\n",
    "}\n",
    "c=pd.DataFrame(dict)\n",
    "print(c.reset_index())"
   ]
  },
  {
   "cell_type": "code",
   "execution_count": 62,
   "id": "4b821b8f",
   "metadata": {},
   "outputs": [
    {
     "name": "stdout",
     "output_type": "stream",
     "text": [
      "    name  marks\n",
      "0  Elvin     90\n",
      "1   Sara     95\n"
     ]
    }
   ],
   "source": [
    "import pandas as pd\n",
    "dict = {\n",
    "    'name':[\"Elvin\",\"Sara\",\"Eldho\"],\n",
    "    'marks':[90,95,100]\n",
    "}\n",
    "c=pd.DataFrame(dict)\n",
    "print(c.iloc[0:2])"
   ]
  },
  {
   "cell_type": "code",
   "execution_count": 74,
   "id": "a836e193",
   "metadata": {},
   "outputs": [
    {
     "data": {
      "text/plain": [
       "name\n",
       "Eldho    50000.0\n",
       "Nitya    50000.0\n",
       "Sara     50000.0\n",
       "neha     40000.0\n",
       "Name: salary, dtype: float64"
      ]
     },
     "execution_count": 74,
     "metadata": {},
     "output_type": "execute_result"
    }
   ],
   "source": [
    "import pandas as pd\n",
    "frame = [[\"Nitya\",\"Doctor\",50000],\n",
    "         [\"Sara\",\"Manager\",50000],\n",
    "        [\"Eldho\",\"Teacher\",50000],\n",
    "        [\"neha\",\"Teacher\",40000]]\n",
    "v=pd.DataFrame(frame,columns=[\"name\",\"occupation\",\"salary\"])\n",
    "v.groupby([\"name\"]).salary.mean()"
   ]
  },
  {
   "cell_type": "code",
   "execution_count": 88,
   "id": "1a70688a",
   "metadata": {},
   "outputs": [
    {
     "name": "stdout",
     "output_type": "stream",
     "text": [
      "  name  marks\n",
      "0    a    2.0\n",
      "1    b    3.0\n",
      "2    c    0.0\n"
     ]
    }
   ],
   "source": [
    "import pandas as pd\n",
    "import numpy as np\n",
    "nums = {'name':[\"a\",\"b\",\"c\"],\n",
    "    'marks': [2, 3, np.nan]}\n",
    "df = pd.DataFrame(nums, columns =['name','marks'])\n",
    "df['marks'] = df['marks'].fillna(0)\n",
    "print(df)\n"
   ]
  },
  {
   "cell_type": "code",
   "execution_count": null,
   "id": "0ad59ee0",
   "metadata": {},
   "outputs": [],
   "source": []
  }
 ],
 "metadata": {
  "kernelspec": {
   "display_name": "Python 3 (ipykernel)",
   "language": "python",
   "name": "python3"
  },
  "language_info": {
   "codemirror_mode": {
    "name": "ipython",
    "version": 3
   },
   "file_extension": ".py",
   "mimetype": "text/x-python",
   "name": "python",
   "nbconvert_exporter": "python",
   "pygments_lexer": "ipython3",
   "version": "3.9.7"
  }
 },
 "nbformat": 4,
 "nbformat_minor": 5
}
