{
 "cells": [
  {
   "cell_type": "code",
   "execution_count": 3,
   "id": "f0f0cf57",
   "metadata": {},
   "outputs": [
    {
     "name": "stdout",
     "output_type": "stream",
     "text": [
      "greatest: \n",
      "[False False]\n",
      "greatest equal: \n",
      "[ True False]\n",
      "less : \n",
      "[False  True]\n",
      "less equal : \n",
      "[ True  True]\n"
     ]
    }
   ],
   "source": [
    "#1.Write  a  NumPy  program  to  create  an  element-wise  comparison  (greater,  greater_equal,  less \n",
    "#and less_equal) of two given arrays.\n",
    "\n",
    "import numpy as np\n",
    "l1 = np.array([3,2])\n",
    "l2 = np.array([3,4])\n",
    "print(\"greatest: \")\n",
    "print(np.greater(l1,l2))\n",
    "print(\"greatest equal: \")\n",
    "print(np.greater_equal(l1,l2))\n",
    "print(\"less : \")\n",
    "print(np.less(l1,l2))\n",
    "print(\"less equal : \")\n",
    "print(np.less_equal(l1,l2))"
   ]
  },
  {
   "cell_type": "code",
   "execution_count": 42,
   "id": "1d634732",
   "metadata": {},
   "outputs": [
    {
     "name": "stdout",
     "output_type": "stream",
     "text": [
      "array of all even integers from 30 to 70 is : \n",
      "[30 31 32 33 34 35 36 37 38 39 40 41 42 43 44 45 46 47 48 49 50 51 52 53\n",
      " 54 55 56 57 58 59 60 61 62 63 64 65 66 67 68 69 70]\n"
     ]
    }
   ],
   "source": [
    "#2.Write a NumPyprogram to create an array of all the even integers from 30 to 70.\n",
    "import numpy as np\n",
    "list= np.arange(30,71)\n",
    "print(\"array of all even integers from 30 to 70 is : \")\n",
    "print(list)"
   ]
  },
  {
   "cell_type": "code",
   "execution_count": 43,
   "id": "72b4c270",
   "metadata": {},
   "outputs": [
    {
     "name": "stdout",
     "output_type": "stream",
     "text": [
      "the 3x3 identity matrix is :\n",
      "[[1. 0. 0.]\n",
      " [0. 1. 0.]\n",
      " [0. 0. 1.]]\n"
     ]
    }
   ],
   "source": [
    "#3.Write a NumPy program to create a 3x3 identity matrix.\n",
    "import numpy as np\n",
    "list= np.identity(3)\n",
    "print(\"the 3x3 identity matrix is :\")\n",
    "print(list)"
   ]
  },
  {
   "cell_type": "code",
   "execution_count": 44,
   "id": "bb996d89",
   "metadata": {},
   "outputs": [
    {
     "name": "stdout",
     "output_type": "stream",
     "text": [
      "the resultant array is :\n",
      "[  0   1   2   3   4   5   6   7   8  -9 -10 -11 -12 -13 -14 -15  16  17\n",
      "  18  19  20]\n"
     ]
    }
   ],
   "source": [
    "#4.Write  a  NumPy  program  to  create  a  vector  with  values from  0  to  20 \n",
    "#and  change  the  sign  of the numbers in the range from 9 to 15.\n",
    "import numpy as np\n",
    "l = np.arange(21)\n",
    "l[(l>=9)&(l<=15)]*=-1\n",
    "print(\"the resultant array is :\")\n",
    "print(l)"
   ]
  },
  {
   "cell_type": "code",
   "execution_count": 45,
   "id": "e678818a",
   "metadata": {},
   "outputs": [
    {
     "name": "stdout",
     "output_type": "stream",
     "text": [
      "the array is\n",
      "[[1 0 0 0 0]\n",
      " [0 2 0 0 0]\n",
      " [0 0 3 0 0]\n",
      " [0 0 0 4 0]\n",
      " [0 0 0 0 5]]\n"
     ]
    }
   ],
   "source": [
    "#5.Write  a  NumPy  program  to  create  a  5x5  zero  matrix  with  elements  \n",
    "#on  the  main  diagonal equal to 1, 2, 3, 4, 5.\n",
    "import numpy as np\n",
    "l=np.diag([1,2,3,4,5])\n",
    "print(\"the array is\")\n",
    "print(l)"
   ]
  },
  {
   "cell_type": "code",
   "execution_count": 46,
   "id": "08318a23",
   "metadata": {},
   "outputs": [
    {
     "name": "stdout",
     "output_type": "stream",
     "text": [
      "the sum of all elements is\n",
      "10\n",
      "row sum is\n",
      "[3 7]\n",
      "coloumn sum is: \n",
      "[4 6]\n"
     ]
    }
   ],
   "source": [
    "#6.Write  a  NumPy  program  to  compute  sum  of  all  elements,  \n",
    "#sum  of  each  column  and  sum  of each row of a given array\n",
    "import numpy as np\n",
    "l=np.array([[1,2],[3,4]])\n",
    "print(\"the sum of all elements is\")\n",
    "print(np.sum(l))\n",
    "print(\"row sum is\")\n",
    "print(np.sum(l,axis=1))\n",
    "print(\"coloumn sum is: \")\n",
    "print(np.sum(l,axis=0))"
   ]
  },
  {
   "cell_type": "code",
   "execution_count": 52,
   "id": "600b2832",
   "metadata": {},
   "outputs": [
    {
     "name": "stdout",
     "output_type": "stream",
     "text": [
      "new contents of the file are [5 4 3 2 1]\n"
     ]
    }
   ],
   "source": [
    "#7.Write a NumPy program to save a given array to a text file and load it.\n",
    "import numpy\n",
    "List = [5,4,3,2,1]\n",
    "Array = numpy.array(List)\n",
    "file = open(\"file1.txt\", \"w+\")\n",
    "content = str(Array)\n",
    "file.write(content)\n",
    "file.close()\n",
    "file = open(\"file1.txt\", \"r\")\n",
    "content = file.read()\n",
    "print(\"new contents of the file are\", content)\n",
    "file.close()"
   ]
  },
  {
   "cell_type": "code",
   "execution_count": 47,
   "id": "f0c75951",
   "metadata": {},
   "outputs": [
    {
     "name": "stdout",
     "output_type": "stream",
     "text": [
      "[ True  True  True]\n"
     ]
    }
   ],
   "source": [
    "#8.Write a NumPy program to check whether two arrays are equal (element wise) or not.\n",
    "import numpy as np\n",
    "l1=np.array([3,2,1])\n",
    "l2=np.array([3,2,1])\n",
    "print(np.equal(l1,l2))"
   ]
  },
  {
   "cell_type": "code",
   "execution_count": 49,
   "id": "ec2a745e",
   "metadata": {},
   "outputs": [
    {
     "name": "stdout",
     "output_type": "stream",
     "text": [
      "the original array is:\n",
      "[[0.82290605 0.60811672 0.43088652 0.4219363 ]\n",
      " [0.45292878 0.67497055 0.63345777 0.45708509]\n",
      " [0.65579845 0.86874114 0.13752558 0.03053112]\n",
      " [0.55628046 0.45290676 0.58798234 0.07967176]]\n",
      "the resultant array is :\n",
      "[[0.55628046 0.45290676 0.58798234 0.07967176]\n",
      " [0.45292878 0.67497055 0.63345777 0.45708509]\n",
      " [0.65579845 0.86874114 0.13752558 0.03053112]\n",
      " [0.82290605 0.60811672 0.43088652 0.4219363 ]]\n"
     ]
    }
   ],
   "source": [
    "#9.Write  a  NumPy  program  to  create  a  4x4  array  with  random  values,  now  create  a  new  array from the said \n",
    "#array swapping first and last rows\n",
    "import numpy as np\n",
    "l=np.random.rand(4,4)\n",
    "print(\"the original array is:\")\n",
    "print(l)\n",
    "l[[0,3]]=l[[3,0]]\n",
    "print(\"the resultant array is :\")\n",
    "print(l)"
   ]
  },
  {
   "cell_type": "markdown",
   "id": "c7c8cb92",
   "metadata": {},
   "source": [
    "import numpy as np\n",
    "l1=np.array([1,2,3])\n",
    "l2=np.array([1,2,3])\n",
    "if(l1==l2):\n",
    "    print(np.multiply(l1,l2))"
   ]
  },
  {
   "cell_type": "code",
   "execution_count": 50,
   "id": "9bff0b22",
   "metadata": {},
   "outputs": [
    {
     "name": "stdout",
     "output_type": "stream",
     "text": [
      "array after multiplication\n",
      "[1 8 9]\n"
     ]
    }
   ],
   "source": [
    "#10.Write a NumPy program to multiply two given arrays of same size element-by-element.\n",
    "import numpy as np \n",
    "l1=np.array([1,2,3]) \n",
    "l2=np.array([1,4,3]) \n",
    "print(\"array after multiplication\")\n",
    "print(np.multiply(l1,l2))"
   ]
  }
 ],
 "metadata": {
  "kernelspec": {
   "display_name": "Python 3 (ipykernel)",
   "language": "python",
   "name": "python3"
  },
  "language_info": {
   "codemirror_mode": {
    "name": "ipython",
    "version": 3
   },
   "file_extension": ".py",
   "mimetype": "text/x-python",
   "name": "python",
   "nbconvert_exporter": "python",
   "pygments_lexer": "ipython3",
   "version": "3.9.7"
  }
 },
 "nbformat": 4,
 "nbformat_minor": 5
}
