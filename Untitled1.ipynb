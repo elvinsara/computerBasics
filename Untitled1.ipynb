{
 "cells": [
  {
   "cell_type": "code",
   "execution_count": 1,
   "id": "e4e2b1f2",
   "metadata": {},
   "outputs": [
    {
     "name": "stdout",
     "output_type": "stream",
     "text": [
      "         Name  gives_birth  aquatic_animal  aerial_animal  has_legs  \\\n",
      "0       human            1               0              0         1   \n",
      "1      python            0               0              0         0   \n",
      "2      salmon            0               1              0         0   \n",
      "3        frog            0               2              0         1   \n",
      "4         bat            1               0              1         1   \n",
      "5      pigeon            0               0              1         1   \n",
      "6         cat            1               0              0         1   \n",
      "7       shark            1               1              0         0   \n",
      "8      turtle            0               2              0         1   \n",
      "9  salamander            0               2              0         1   \n",
      "\n",
      "  class_label  \n",
      "0      mammal  \n",
      "1     reptile  \n",
      "2        fish  \n",
      "3   amphibian  \n",
      "4        bird  \n",
      "5        bird  \n",
      "6      mammal  \n",
      "7        fish  \n",
      "8   amphibian  \n",
      "9   amphibian  \n",
      "accuracy 0.6666666666666666\n",
      "['fish']\n"
     ]
    },
    {
     "name": "stderr",
     "output_type": "stream",
     "text": [
      "C:\\Python310\\lib\\site-packages\\sklearn\\base.py:450: UserWarning: X does not have valid feature names, but DecisionTreeClassifier was fitted with feature names\n",
      "  warnings.warn(\n"
     ]
    }
   ],
   "source": [
    "import pandas as pd\n",
    "import matplotlib.pyplot as plt\n",
    "from sklearn import tree\n",
    "from sklearn import metrics\n",
    "from sklearn.model_selection import train_test_split\n",
    "from sklearn.tree import DecisionTreeClassifier\n",
    "iris=pd.read_csv(\"dslab.csv\")\n",
    "print(iris)\n",
    "X=iris[[\"gives_birth\",\"aquatic_animal\",\"aerial_animal\",\"has_legs\"]]\n",
    "y=iris[[\"class_label\"]]\n",
    "\n",
    "X_train,X_test,y_train,y_test=train_test_split(X,y,test_size=0.3,random_state=1);\n",
    "clf=DecisionTreeClassifier(criterion=\"entropy\")\n",
    "clf.fit(X_train,y_train)\n",
    "y_pred=clf.predict(X_test)\n",
    "print(\"accuracy\",metrics.accuracy_score(y_test,y_pred))\n",
    "newcase=[[1,1,0,0]]\n",
    "y_new=clf.predict(newcase)\n",
    "print(y_new)\n"
   ]
  },
  {
   "cell_type": "code",
   "execution_count": 5,
   "id": "3c995094",
   "metadata": {},
   "outputs": [
    {
     "name": "stdout",
     "output_type": "stream",
     "text": [
      "accuracy 0.3333333333333333\n",
      "['amphibian']\n"
     ]
    },
    {
     "name": "stderr",
     "output_type": "stream",
     "text": [
      "C:\\Python310\\lib\\site-packages\\sklearn\\neighbors\\_classification.py:198: DataConversionWarning: A column-vector y was passed when a 1d array was expected. Please change the shape of y to (n_samples,), for example using ravel().\n",
      "  return self._fit(X, y)\n",
      "C:\\Python310\\lib\\site-packages\\sklearn\\base.py:450: UserWarning: X does not have valid feature names, but KNeighborsClassifier was fitted with feature names\n",
      "  warnings.warn(\n"
     ]
    }
   ],
   "source": [
    "import pandas as pd\n",
    "import matplotlib.pyplot as plt\n",
    "from sklearn.neighbors import KNeighborsClassifier\n",
    "from sklearn import metrics\n",
    "from sklearn.model_selection import train_test_split\n",
    "\n",
    "iris=pd.read_csv(\"dslab.csv\")\n",
    "x=iris[[\"gives_birth\",\"aquatic_animal\",\"aerial_animal\",\"has_legs\"]]\n",
    "y=iris[[\"class_label\"]]\n",
    "x_train,x_test,y_train,y_test=train_test_split(x,y,test_size=0.3,random_state=1)\n",
    "clf=KNeighborsClassifier(n_neighbors=5)\n",
    "clf.fit(x_train,y_train)\n",
    "y_pred=clf.predict(x_test)\n",
    "print(\"accuracy\",metrics.accuracy_score(y_pred,y_test))\n",
    "sample=[[0,2,0,1]]\n",
    "print(clf.predict(sample))"
   ]
  },
  {
   "cell_type": "code",
   "execution_count": 7,
   "id": "51e41949",
   "metadata": {},
   "outputs": [
    {
     "name": "stdout",
     "output_type": "stream",
     "text": [
      "accuracy 1.0\n",
      "['amphibian']\n"
     ]
    },
    {
     "name": "stderr",
     "output_type": "stream",
     "text": [
      "C:\\Python310\\lib\\site-packages\\sklearn\\utils\\validation.py:993: DataConversionWarning: A column-vector y was passed when a 1d array was expected. Please change the shape of y to (n_samples, ), for example using ravel().\n",
      "  y = column_or_1d(y, warn=True)\n",
      "C:\\Python310\\lib\\site-packages\\sklearn\\base.py:450: UserWarning: X does not have valid feature names, but GaussianNB was fitted with feature names\n",
      "  warnings.warn(\n"
     ]
    }
   ],
   "source": [
    "import pandas as pd\n",
    "import matplotlib.pyplot as plt\n",
    "from sklearn.naive_bayes import GaussianNB\n",
    "from sklearn import metrics\n",
    "from sklearn.model_selection import train_test_split\n",
    "\n",
    "iris=pd.read_csv(\"dslab.csv\")\n",
    "x=iris[[\"gives_birth\",\"aquatic_animal\",\"aerial_animal\",\"has_legs\"]]\n",
    "y=iris[[\"class_label\"]]\n",
    "x_train,x_test,y_train,y_test=train_test_split(x,y,test_size=0.3,random_state=1)\n",
    "clf=GaussianNB()\n",
    "clf.fit(x_train,y_train)\n",
    "y_pred=clf.predict(x_test)\n",
    "print(\"accuracy\",metrics.accuracy_score(y_pred,y_test))\n",
    "sample=[[0,2,0,1]]\n",
    "print(clf.predict(sample))"
   ]
  },
  {
   "cell_type": "code",
   "execution_count": 9,
   "id": "b6136995",
   "metadata": {},
   "outputs": [
    {
     "name": "stdout",
     "output_type": "stream",
     "text": [
      "Accuracy 1.0\n",
      "['setosa']\n"
     ]
    }
   ],
   "source": [
    "from sklearn.datasets import load_iris\n",
    "from sklearn.model_selection import train_test_split\n",
    "from sklearn import metrics\n",
    "from sklearn.svm import SVC\n",
    "\n",
    "iris = load_iris()\n",
    "x = iris.data\n",
    "y = iris.target\n",
    "x_train,x_test,y_train,y_test = train_test_split(x,y,test_size=0.3,random_state=1)\n",
    "\n",
    "\n",
    "classifier = SVC(kernel='linear', random_state=0)  \n",
    "classifier.fit(x_train, y_train)  \n",
    "y_pred= classifier.predict(x_test)  \n",
    "\n",
    "print(\"Accuracy\",metrics.accuracy_score(y_test,y_pred))\n",
    "\n",
    "sample = [[1,1,1,2]]\n",
    "pred = classifier.predict(sample)\n",
    "pred_v = [iris.target_names[p] for p in pred]\n",
    "print(pred_v)"
   ]
  },
  {
   "cell_type": "markdown",
   "id": "f94c727a",
   "metadata": {},
   "source": [
    "from sklearn.datasets import load_iris\n",
    "iris=load_iris()\n",
    "from sklearn.model_selection import train_test_split\n",
    "from sklearn import metrics\n",
    "from sklearn.svc import SVC\n",
    "x=iris.data\n",
    "y=iris.target\n",
    "x_train,x_test,y_train,y_test=train_test_split(x,y,test_size=0.3,random_state=1)\n",
    "clf=SVM(kernel='linear,random_state=0)\n",
    "clf.fit(x_train,y_train)\n",
    "y_pred=clf.predict(x_test)\n",
    "print(\"accuracy\",metrics.accuracy_score(y_pred,y_test))\n",
    "sample = [[1,1,1,2]]\n",
    "pred = classifier.predict(sample)\n",
    "pred_v = [iris.target_names[p] for p in pred]\n",
    "print(pred_v)\n"
   ]
  },
  {
   "cell_type": "code",
   "execution_count": 15,
   "id": "fa9878d7",
   "metadata": {},
   "outputs": [
    {
     "name": "stdout",
     "output_type": "stream",
     "text": [
      "accuracy 1.0\n",
      "['setosa']\n"
     ]
    }
   ],
   "source": [
    "from sklearn.datasets import load_iris\n",
    "iris=load_iris()\n",
    "from sklearn.model_selection import train_test_split\n",
    "from sklearn import metrics\n",
    "from sklearn.svm import SVC\n",
    "x=iris.data \n",
    "y=iris.target \n",
    "x_train,x_test,y_train,y_test=train_test_split(x,y,test_size=0.3,random_state=1)\n",
    "clf=SVC(kernel='linear',random_state=0) \n",
    "clf.fit(x_train,y_train)\n",
    "\n",
    "y_pred=clf.predict(x_test) \n",
    "print(\"accuracy\",metrics.accuracy_score(y_pred,y_test))\n",
    "sample = [[1,1,1,2]] \n",
    "pred = classifier.predict(sample) \n",
    "pred_v = [iris.target_names[p] for p in pred] \n",
    "print(pred_v)"
   ]
  },
  {
   "cell_type": "code",
   "execution_count": null,
   "id": "0e3a0032",
   "metadata": {},
   "outputs": [],
   "source": []
  }
 ],
 "metadata": {
  "kernelspec": {
   "display_name": "Python 3 (ipykernel)",
   "language": "python",
   "name": "python3"
  },
  "language_info": {
   "codemirror_mode": {
    "name": "ipython",
    "version": 3
   },
   "file_extension": ".py",
   "mimetype": "text/x-python",
   "name": "python",
   "nbconvert_exporter": "python",
   "pygments_lexer": "ipython3",
   "version": "3.10.1"
  }
 },
 "nbformat": 4,
 "nbformat_minor": 5
}
